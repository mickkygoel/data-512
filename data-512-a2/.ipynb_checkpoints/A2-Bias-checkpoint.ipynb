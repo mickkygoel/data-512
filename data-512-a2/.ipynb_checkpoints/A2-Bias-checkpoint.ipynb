{
 "cells": [
  {
   "cell_type": "markdown",
   "metadata": {},
   "source": [
    "# A2: Bias in Data\n",
    "## ***Mayank Goel***"
   ]
  },
  {
   "cell_type": "markdown",
   "metadata": {},
   "source": [
    "In this notebook, I will walk through potential sources of bias in a corpus of human-annotated data, and describe some implications for those biases. \n",
    "\n",
    "The corpus I am using is called the Wikipedia Talk corpus, and it consists of three datasets. Each dataset contains thousands of online discussion posts made by Wikipedia editors who were discussing how to write and edit Wikipedia articles. Crowdworkers labelled these posts for three kinds of hostile speech: “toxicity”, “aggression”, and “personal attacks”. Many posts in each dataset were labelled by multiple crowdworkers for each type of hostile speech, to improve accuracy.\n"
   ]
  },
  {
   "cell_type": "markdown",
   "metadata": {},
   "source": [
    "## Importing the dataset"
   ]
  },
  {
   "cell_type": "markdown",
   "metadata": {},
   "source": [
    "Importing all required libraries"
   ]
  },
  {
   "cell_type": "code",
   "execution_count": 1,
   "metadata": {},
   "outputs": [],
   "source": [
    "# importing all libraries\n",
    "import pandas as pd\n",
    "import matplotlib.pyplot as plt\n",
    "import nltk\n",
    "import requests\n",
    "from zipfile import ZipFile\n",
    "from urllib.request import urlretrieve\n",
    "import os\n"
   ]
  },
  {
   "cell_type": "markdown",
   "metadata": {},
   "source": [
    "Declaring all datasource as constants for each access later on. <br>\n",
    "Downloading the files in the data folder using these links."
   ]
  },
  {
   "cell_type": "code",
   "execution_count": 2,
   "metadata": {},
   "outputs": [
    {
     "data": {
      "text/plain": [
       "('data/aggression_demographics.tsv', <http.client.HTTPMessage at 0x1a237c5198>)"
      ]
     },
     "execution_count": 2,
     "metadata": {},
     "output_type": "execute_result"
    }
   ],
   "source": [
    "#Dataset source\n",
    "TOXICITY_COMMENTS = 'https://ndownloader.figshare.com/files/7394542' \n",
    "TOXICITY_ANNOTATIONS = 'https://ndownloader.figshare.com/files/7394539'\n",
    "TOXICITY_DEMOGRAPHICS = 'https://ndownloader.figshare.com/files/7640581'\n",
    "\n",
    "ATTACK_COMMENTS = 'https://ndownloader.figshare.com/files/7554634' \n",
    "ATTACK_ANNOTATIONS = 'https://ndownloader.figshare.com/files/7554637'\n",
    "ATTACK_DEMOGRAPHICS = 'https://ndownloader.figshare.com/files/7640752'\n",
    "\n",
    "AGGRESSION_COMMENTS = 'https://ndownloader.figshare.com/files/7038038' \n",
    "AGGRESSION_ANNOTATIONS = 'https://ndownloader.figshare.com/files/7394506'\n",
    "AGGRESSION_DEMOGRAPHICS = 'https://ndownloader.figshare.com/files/7640644'\n",
    "\n",
    "\n",
    "#Download the files \n",
    "urlretrieve(TOXICITY_COMMENTS, 'data/toxicity_comments.tsv')\n",
    "urlretrieve(TOXICITY_ANNOTATIONS, 'data/toxicity_annotations.tsv')   \n",
    "urlretrieve(TOXICITY_DEMOGRAPHICS, 'data/toxicity_demographics.tsv')   \n",
    "\n",
    "urlretrieve(ATTACK_COMMENTS, 'data/attack_comments.tsv')\n",
    "urlretrieve(ATTACK_ANNOTATIONS, 'data/attack_annotations.tsv')\n",
    "urlretrieve(ATTACK_DEMOGRAPHICS, 'data/attack_demographics.tsv')\n",
    "\n",
    "urlretrieve(AGGRESSION_COMMENTS, 'data/aggression_comments.tsv')\n",
    "urlretrieve(AGGRESSION_ANNOTATIONS, 'data/aggression_annotations.tsv')   \n",
    "urlretrieve(AGGRESSION_DEMOGRAPHICS, 'data/aggression_demographics.tsv')"
   ]
  },
  {
   "cell_type": "markdown",
   "metadata": {},
   "source": [
    "There are three files related to toxicity dataset. Reading all those toxicity files as dataframes"
   ]
  },
  {
   "cell_type": "code",
   "execution_count": 3,
   "metadata": {},
   "outputs": [],
   "source": [
    "toxicity_comments = pd.read_csv('data/toxicity_comments.tsv', sep='\\t')\n",
    "toxicity_annotations = pd.read_csv('data/toxicity_annotations.tsv', sep='\\t')\n",
    "toxicity_demographics = pd.read_csv('data/toxicity_demographics.tsv', sep='\\t')\n"
   ]
  },
  {
   "cell_type": "markdown",
   "metadata": {},
   "source": [
    "There are three files related to attack dataset. Reading all those attack files as dataframes"
   ]
  },
  {
   "cell_type": "code",
   "execution_count": 4,
   "metadata": {},
   "outputs": [],
   "source": [
    "attack_comments = pd.read_csv('data/attack_comments.tsv', sep='\\t')\n",
    "attack_annotations = pd.read_csv('data/attack_annotations.tsv', sep='\\t')\n",
    "attack_demographics = pd.read_csv('data/attack_demographics.tsv', sep='\\t')"
   ]
  },
  {
   "cell_type": "markdown",
   "metadata": {},
   "source": [
    "There are three files related to aggression dataset. Reading all those aggression files as dataframes"
   ]
  },
  {
   "cell_type": "code",
   "execution_count": 5,
   "metadata": {},
   "outputs": [],
   "source": [
    "aggression_comments = pd.read_csv('data/aggression_comments.tsv', sep='\\t')\n",
    "aggression_annotations = pd.read_csv('data/aggression_annotations.tsv', sep='\\t')\n",
    "aggression_demographics = pd.read_csv('data/aggression_demographics.tsv', sep='\\t')"
   ]
  },
  {
   "cell_type": "markdown",
   "metadata": {},
   "source": [
    "### Let's check out one of the dataset to understand the data first\n",
    "\n",
    "For demo purpose, I am printing the files for toxicity dataset."
   ]
  },
  {
   "cell_type": "markdown",
   "metadata": {},
   "source": [
    "**Comments file for toxicity dataset**"
   ]
  },
  {
   "cell_type": "code",
   "execution_count": 6,
   "metadata": {},
   "outputs": [
    {
     "data": {
      "text/html": [
       "<div>\n",
       "<style scoped>\n",
       "    .dataframe tbody tr th:only-of-type {\n",
       "        vertical-align: middle;\n",
       "    }\n",
       "\n",
       "    .dataframe tbody tr th {\n",
       "        vertical-align: top;\n",
       "    }\n",
       "\n",
       "    .dataframe thead th {\n",
       "        text-align: right;\n",
       "    }\n",
       "</style>\n",
       "<table border=\"1\" class=\"dataframe\">\n",
       "  <thead>\n",
       "    <tr style=\"text-align: right;\">\n",
       "      <th></th>\n",
       "      <th>rev_id</th>\n",
       "      <th>comment</th>\n",
       "      <th>year</th>\n",
       "      <th>logged_in</th>\n",
       "      <th>ns</th>\n",
       "      <th>sample</th>\n",
       "      <th>split</th>\n",
       "    </tr>\n",
       "  </thead>\n",
       "  <tbody>\n",
       "    <tr>\n",
       "      <th>0</th>\n",
       "      <td>2232.0</td>\n",
       "      <td>This:NEWLINE_TOKEN:One can make an analogy in ...</td>\n",
       "      <td>2002</td>\n",
       "      <td>True</td>\n",
       "      <td>article</td>\n",
       "      <td>random</td>\n",
       "      <td>train</td>\n",
       "    </tr>\n",
       "    <tr>\n",
       "      <th>1</th>\n",
       "      <td>4216.0</td>\n",
       "      <td>`NEWLINE_TOKENNEWLINE_TOKEN:Clarification for ...</td>\n",
       "      <td>2002</td>\n",
       "      <td>True</td>\n",
       "      <td>user</td>\n",
       "      <td>random</td>\n",
       "      <td>train</td>\n",
       "    </tr>\n",
       "    <tr>\n",
       "      <th>2</th>\n",
       "      <td>8953.0</td>\n",
       "      <td>Elected or Electoral? JHK</td>\n",
       "      <td>2002</td>\n",
       "      <td>False</td>\n",
       "      <td>article</td>\n",
       "      <td>random</td>\n",
       "      <td>test</td>\n",
       "    </tr>\n",
       "    <tr>\n",
       "      <th>3</th>\n",
       "      <td>26547.0</td>\n",
       "      <td>`This is such a fun entry.   DevotchkaNEWLINE_...</td>\n",
       "      <td>2002</td>\n",
       "      <td>True</td>\n",
       "      <td>article</td>\n",
       "      <td>random</td>\n",
       "      <td>train</td>\n",
       "    </tr>\n",
       "    <tr>\n",
       "      <th>4</th>\n",
       "      <td>28959.0</td>\n",
       "      <td>Please relate the ozone hole to increases in c...</td>\n",
       "      <td>2002</td>\n",
       "      <td>True</td>\n",
       "      <td>article</td>\n",
       "      <td>random</td>\n",
       "      <td>test</td>\n",
       "    </tr>\n",
       "  </tbody>\n",
       "</table>\n",
       "</div>"
      ],
      "text/plain": [
       "    rev_id                                            comment  year  \\\n",
       "0   2232.0  This:NEWLINE_TOKEN:One can make an analogy in ...  2002   \n",
       "1   4216.0  `NEWLINE_TOKENNEWLINE_TOKEN:Clarification for ...  2002   \n",
       "2   8953.0                          Elected or Electoral? JHK  2002   \n",
       "3  26547.0  `This is such a fun entry.   DevotchkaNEWLINE_...  2002   \n",
       "4  28959.0  Please relate the ozone hole to increases in c...  2002   \n",
       "\n",
       "   logged_in       ns  sample  split  \n",
       "0       True  article  random  train  \n",
       "1       True     user  random  train  \n",
       "2      False  article  random   test  \n",
       "3       True  article  random  train  \n",
       "4       True  article  random   test  "
      ]
     },
     "execution_count": 6,
     "metadata": {},
     "output_type": "execute_result"
    }
   ],
   "source": [
    "toxicity_comments.head()"
   ]
  },
  {
   "cell_type": "markdown",
   "metadata": {},
   "source": [
    "**Annotations file for toxicity dataset**"
   ]
  },
  {
   "cell_type": "code",
   "execution_count": 7,
   "metadata": {},
   "outputs": [
    {
     "data": {
      "text/html": [
       "<div>\n",
       "<style scoped>\n",
       "    .dataframe tbody tr th:only-of-type {\n",
       "        vertical-align: middle;\n",
       "    }\n",
       "\n",
       "    .dataframe tbody tr th {\n",
       "        vertical-align: top;\n",
       "    }\n",
       "\n",
       "    .dataframe thead th {\n",
       "        text-align: right;\n",
       "    }\n",
       "</style>\n",
       "<table border=\"1\" class=\"dataframe\">\n",
       "  <thead>\n",
       "    <tr style=\"text-align: right;\">\n",
       "      <th></th>\n",
       "      <th>rev_id</th>\n",
       "      <th>worker_id</th>\n",
       "      <th>toxicity</th>\n",
       "      <th>toxicity_score</th>\n",
       "    </tr>\n",
       "  </thead>\n",
       "  <tbody>\n",
       "    <tr>\n",
       "      <th>0</th>\n",
       "      <td>2232.0</td>\n",
       "      <td>723</td>\n",
       "      <td>0</td>\n",
       "      <td>0.0</td>\n",
       "    </tr>\n",
       "    <tr>\n",
       "      <th>1</th>\n",
       "      <td>2232.0</td>\n",
       "      <td>4000</td>\n",
       "      <td>0</td>\n",
       "      <td>0.0</td>\n",
       "    </tr>\n",
       "    <tr>\n",
       "      <th>2</th>\n",
       "      <td>2232.0</td>\n",
       "      <td>3989</td>\n",
       "      <td>0</td>\n",
       "      <td>1.0</td>\n",
       "    </tr>\n",
       "    <tr>\n",
       "      <th>3</th>\n",
       "      <td>2232.0</td>\n",
       "      <td>3341</td>\n",
       "      <td>0</td>\n",
       "      <td>0.0</td>\n",
       "    </tr>\n",
       "    <tr>\n",
       "      <th>4</th>\n",
       "      <td>2232.0</td>\n",
       "      <td>1574</td>\n",
       "      <td>0</td>\n",
       "      <td>1.0</td>\n",
       "    </tr>\n",
       "  </tbody>\n",
       "</table>\n",
       "</div>"
      ],
      "text/plain": [
       "   rev_id  worker_id  toxicity  toxicity_score\n",
       "0  2232.0        723         0             0.0\n",
       "1  2232.0       4000         0             0.0\n",
       "2  2232.0       3989         0             1.0\n",
       "3  2232.0       3341         0             0.0\n",
       "4  2232.0       1574         0             1.0"
      ]
     },
     "execution_count": 7,
     "metadata": {},
     "output_type": "execute_result"
    }
   ],
   "source": [
    "toxicity_annotations.head()"
   ]
  },
  {
   "cell_type": "markdown",
   "metadata": {},
   "source": [
    "**Worker Demographics file for toxicity dataset**"
   ]
  },
  {
   "cell_type": "code",
   "execution_count": 8,
   "metadata": {},
   "outputs": [
    {
     "data": {
      "text/html": [
       "<div>\n",
       "<style scoped>\n",
       "    .dataframe tbody tr th:only-of-type {\n",
       "        vertical-align: middle;\n",
       "    }\n",
       "\n",
       "    .dataframe tbody tr th {\n",
       "        vertical-align: top;\n",
       "    }\n",
       "\n",
       "    .dataframe thead th {\n",
       "        text-align: right;\n",
       "    }\n",
       "</style>\n",
       "<table border=\"1\" class=\"dataframe\">\n",
       "  <thead>\n",
       "    <tr style=\"text-align: right;\">\n",
       "      <th></th>\n",
       "      <th>worker_id</th>\n",
       "      <th>gender</th>\n",
       "      <th>english_first_language</th>\n",
       "      <th>age_group</th>\n",
       "      <th>education</th>\n",
       "    </tr>\n",
       "  </thead>\n",
       "  <tbody>\n",
       "    <tr>\n",
       "      <th>0</th>\n",
       "      <td>85</td>\n",
       "      <td>female</td>\n",
       "      <td>0</td>\n",
       "      <td>18-30</td>\n",
       "      <td>bachelors</td>\n",
       "    </tr>\n",
       "    <tr>\n",
       "      <th>1</th>\n",
       "      <td>1617</td>\n",
       "      <td>female</td>\n",
       "      <td>0</td>\n",
       "      <td>45-60</td>\n",
       "      <td>bachelors</td>\n",
       "    </tr>\n",
       "    <tr>\n",
       "      <th>2</th>\n",
       "      <td>1394</td>\n",
       "      <td>female</td>\n",
       "      <td>0</td>\n",
       "      <td>NaN</td>\n",
       "      <td>bachelors</td>\n",
       "    </tr>\n",
       "    <tr>\n",
       "      <th>3</th>\n",
       "      <td>311</td>\n",
       "      <td>male</td>\n",
       "      <td>0</td>\n",
       "      <td>30-45</td>\n",
       "      <td>bachelors</td>\n",
       "    </tr>\n",
       "    <tr>\n",
       "      <th>4</th>\n",
       "      <td>1980</td>\n",
       "      <td>male</td>\n",
       "      <td>0</td>\n",
       "      <td>45-60</td>\n",
       "      <td>masters</td>\n",
       "    </tr>\n",
       "  </tbody>\n",
       "</table>\n",
       "</div>"
      ],
      "text/plain": [
       "   worker_id  gender  english_first_language age_group  education\n",
       "0         85  female                       0     18-30  bachelors\n",
       "1       1617  female                       0     45-60  bachelors\n",
       "2       1394  female                       0       NaN  bachelors\n",
       "3        311    male                       0     30-45  bachelors\n",
       "4       1980    male                       0     45-60    masters"
      ]
     },
     "execution_count": 8,
     "metadata": {},
     "output_type": "execute_result"
    }
   ],
   "source": [
    "toxicity_demographics.head()"
   ]
  },
  {
   "cell_type": "markdown",
   "metadata": {},
   "source": [
    "Now that we have explored what the three files contain, we can join them using the keys as following. <BR>\n",
    "**Joined file for toxicity dataset**"
   ]
  },
  {
   "cell_type": "code",
   "execution_count": 9,
   "metadata": {},
   "outputs": [
    {
     "data": {
      "text/html": [
       "<div>\n",
       "<style scoped>\n",
       "    .dataframe tbody tr th:only-of-type {\n",
       "        vertical-align: middle;\n",
       "    }\n",
       "\n",
       "    .dataframe tbody tr th {\n",
       "        vertical-align: top;\n",
       "    }\n",
       "\n",
       "    .dataframe thead th {\n",
       "        text-align: right;\n",
       "    }\n",
       "</style>\n",
       "<table border=\"1\" class=\"dataframe\">\n",
       "  <thead>\n",
       "    <tr style=\"text-align: right;\">\n",
       "      <th></th>\n",
       "      <th>rev_id</th>\n",
       "      <th>worker_id</th>\n",
       "      <th>toxicity</th>\n",
       "      <th>toxicity_score</th>\n",
       "      <th>worker_id_demo</th>\n",
       "      <th>gender</th>\n",
       "      <th>english_first_language</th>\n",
       "      <th>age_group</th>\n",
       "      <th>education</th>\n",
       "    </tr>\n",
       "  </thead>\n",
       "  <tbody>\n",
       "    <tr>\n",
       "      <th>0</th>\n",
       "      <td>2232.0</td>\n",
       "      <td>723</td>\n",
       "      <td>0</td>\n",
       "      <td>0.0</td>\n",
       "      <td>1789.0</td>\n",
       "      <td>male</td>\n",
       "      <td>1.0</td>\n",
       "      <td>30-45</td>\n",
       "      <td>bachelors</td>\n",
       "    </tr>\n",
       "    <tr>\n",
       "      <th>1</th>\n",
       "      <td>2232.0</td>\n",
       "      <td>4000</td>\n",
       "      <td>0</td>\n",
       "      <td>0.0</td>\n",
       "      <td>NaN</td>\n",
       "      <td>NaN</td>\n",
       "      <td>NaN</td>\n",
       "      <td>NaN</td>\n",
       "      <td>NaN</td>\n",
       "    </tr>\n",
       "    <tr>\n",
       "      <th>2</th>\n",
       "      <td>2232.0</td>\n",
       "      <td>3989</td>\n",
       "      <td>0</td>\n",
       "      <td>1.0</td>\n",
       "      <td>NaN</td>\n",
       "      <td>NaN</td>\n",
       "      <td>NaN</td>\n",
       "      <td>NaN</td>\n",
       "      <td>NaN</td>\n",
       "    </tr>\n",
       "    <tr>\n",
       "      <th>3</th>\n",
       "      <td>2232.0</td>\n",
       "      <td>3341</td>\n",
       "      <td>0</td>\n",
       "      <td>0.0</td>\n",
       "      <td>3974.0</td>\n",
       "      <td>male</td>\n",
       "      <td>0.0</td>\n",
       "      <td>18-30</td>\n",
       "      <td>hs</td>\n",
       "    </tr>\n",
       "    <tr>\n",
       "      <th>4</th>\n",
       "      <td>2232.0</td>\n",
       "      <td>1574</td>\n",
       "      <td>0</td>\n",
       "      <td>1.0</td>\n",
       "      <td>3863.0</td>\n",
       "      <td>female</td>\n",
       "      <td>0.0</td>\n",
       "      <td>18-30</td>\n",
       "      <td>professional</td>\n",
       "    </tr>\n",
       "  </tbody>\n",
       "</table>\n",
       "</div>"
      ],
      "text/plain": [
       "   rev_id  worker_id  toxicity  toxicity_score  worker_id_demo  gender  \\\n",
       "0  2232.0        723         0             0.0          1789.0    male   \n",
       "1  2232.0       4000         0             0.0             NaN     NaN   \n",
       "2  2232.0       3989         0             1.0             NaN     NaN   \n",
       "3  2232.0       3341         0             0.0          3974.0    male   \n",
       "4  2232.0       1574         0             1.0          3863.0  female   \n",
       "\n",
       "   english_first_language age_group     education  \n",
       "0                     1.0     30-45     bachelors  \n",
       "1                     NaN       NaN           NaN  \n",
       "2                     NaN       NaN           NaN  \n",
       "3                     0.0     18-30            hs  \n",
       "4                     0.0     18-30  professional  "
      ]
     },
     "execution_count": 9,
     "metadata": {},
     "output_type": "execute_result"
    }
   ],
   "source": [
    "toxicity_joined = toxicity_annotations.join(toxicity_demographics, on=\"worker_id\", rsuffix=\"_demo\")\n",
    "toxicity_joined.head()"
   ]
  },
  {
   "cell_type": "markdown",
   "metadata": {},
   "source": [
    "Similarly we can now join the files for attack dataset <br>\n",
    "**Joined file for toxicity dataset**"
   ]
  },
  {
   "cell_type": "code",
   "execution_count": 10,
   "metadata": {},
   "outputs": [
    {
     "data": {
      "text/html": [
       "<div>\n",
       "<style scoped>\n",
       "    .dataframe tbody tr th:only-of-type {\n",
       "        vertical-align: middle;\n",
       "    }\n",
       "\n",
       "    .dataframe tbody tr th {\n",
       "        vertical-align: top;\n",
       "    }\n",
       "\n",
       "    .dataframe thead th {\n",
       "        text-align: right;\n",
       "    }\n",
       "</style>\n",
       "<table border=\"1\" class=\"dataframe\">\n",
       "  <thead>\n",
       "    <tr style=\"text-align: right;\">\n",
       "      <th></th>\n",
       "      <th>rev_id</th>\n",
       "      <th>worker_id</th>\n",
       "      <th>quoting_attack</th>\n",
       "      <th>recipient_attack</th>\n",
       "      <th>third_party_attack</th>\n",
       "      <th>other_attack</th>\n",
       "      <th>attack</th>\n",
       "      <th>worker_id_demo</th>\n",
       "      <th>gender</th>\n",
       "      <th>english_first_language</th>\n",
       "      <th>age_group</th>\n",
       "      <th>education</th>\n",
       "    </tr>\n",
       "  </thead>\n",
       "  <tbody>\n",
       "    <tr>\n",
       "      <th>0</th>\n",
       "      <td>37675</td>\n",
       "      <td>1362</td>\n",
       "      <td>0.0</td>\n",
       "      <td>0.0</td>\n",
       "      <td>0.0</td>\n",
       "      <td>0.0</td>\n",
       "      <td>0.0</td>\n",
       "      <td>3248.0</td>\n",
       "      <td>male</td>\n",
       "      <td>0.0</td>\n",
       "      <td>30-45</td>\n",
       "      <td>bachelors</td>\n",
       "    </tr>\n",
       "    <tr>\n",
       "      <th>1</th>\n",
       "      <td>37675</td>\n",
       "      <td>2408</td>\n",
       "      <td>0.0</td>\n",
       "      <td>0.0</td>\n",
       "      <td>0.0</td>\n",
       "      <td>0.0</td>\n",
       "      <td>0.0</td>\n",
       "      <td>NaN</td>\n",
       "      <td>NaN</td>\n",
       "      <td>NaN</td>\n",
       "      <td>NaN</td>\n",
       "      <td>NaN</td>\n",
       "    </tr>\n",
       "    <tr>\n",
       "      <th>2</th>\n",
       "      <td>37675</td>\n",
       "      <td>1493</td>\n",
       "      <td>0.0</td>\n",
       "      <td>0.0</td>\n",
       "      <td>0.0</td>\n",
       "      <td>0.0</td>\n",
       "      <td>0.0</td>\n",
       "      <td>2953.0</td>\n",
       "      <td>female</td>\n",
       "      <td>0.0</td>\n",
       "      <td>30-45</td>\n",
       "      <td>hs</td>\n",
       "    </tr>\n",
       "    <tr>\n",
       "      <th>3</th>\n",
       "      <td>37675</td>\n",
       "      <td>1439</td>\n",
       "      <td>0.0</td>\n",
       "      <td>0.0</td>\n",
       "      <td>0.0</td>\n",
       "      <td>0.0</td>\n",
       "      <td>0.0</td>\n",
       "      <td>49.0</td>\n",
       "      <td>male</td>\n",
       "      <td>0.0</td>\n",
       "      <td>18-30</td>\n",
       "      <td>professional</td>\n",
       "    </tr>\n",
       "    <tr>\n",
       "      <th>4</th>\n",
       "      <td>37675</td>\n",
       "      <td>170</td>\n",
       "      <td>0.0</td>\n",
       "      <td>0.0</td>\n",
       "      <td>0.0</td>\n",
       "      <td>0.0</td>\n",
       "      <td>0.0</td>\n",
       "      <td>1127.0</td>\n",
       "      <td>female</td>\n",
       "      <td>0.0</td>\n",
       "      <td>45-60</td>\n",
       "      <td>masters</td>\n",
       "    </tr>\n",
       "  </tbody>\n",
       "</table>\n",
       "</div>"
      ],
      "text/plain": [
       "   rev_id  worker_id  quoting_attack  recipient_attack  third_party_attack  \\\n",
       "0   37675       1362             0.0               0.0                 0.0   \n",
       "1   37675       2408             0.0               0.0                 0.0   \n",
       "2   37675       1493             0.0               0.0                 0.0   \n",
       "3   37675       1439             0.0               0.0                 0.0   \n",
       "4   37675        170             0.0               0.0                 0.0   \n",
       "\n",
       "   other_attack  attack  worker_id_demo  gender  english_first_language  \\\n",
       "0           0.0     0.0          3248.0    male                     0.0   \n",
       "1           0.0     0.0             NaN     NaN                     NaN   \n",
       "2           0.0     0.0          2953.0  female                     0.0   \n",
       "3           0.0     0.0            49.0    male                     0.0   \n",
       "4           0.0     0.0          1127.0  female                     0.0   \n",
       "\n",
       "  age_group     education  \n",
       "0     30-45     bachelors  \n",
       "1       NaN           NaN  \n",
       "2     30-45            hs  \n",
       "3     18-30  professional  \n",
       "4     45-60       masters  "
      ]
     },
     "execution_count": 10,
     "metadata": {},
     "output_type": "execute_result"
    }
   ],
   "source": [
    "attack_joined = attack_annotations.join(attack_demographics, on=\"worker_id\", rsuffix=\"_demo\")\n",
    "attack_joined.head()"
   ]
  },
  {
   "cell_type": "markdown",
   "metadata": {},
   "source": [
    "Similarly we can now join the files for attack dataset <br>\n",
    "**Joined file for aggression dataset**"
   ]
  },
  {
   "cell_type": "code",
   "execution_count": 11,
   "metadata": {},
   "outputs": [
    {
     "data": {
      "text/html": [
       "<div>\n",
       "<style scoped>\n",
       "    .dataframe tbody tr th:only-of-type {\n",
       "        vertical-align: middle;\n",
       "    }\n",
       "\n",
       "    .dataframe tbody tr th {\n",
       "        vertical-align: top;\n",
       "    }\n",
       "\n",
       "    .dataframe thead th {\n",
       "        text-align: right;\n",
       "    }\n",
       "</style>\n",
       "<table border=\"1\" class=\"dataframe\">\n",
       "  <thead>\n",
       "    <tr style=\"text-align: right;\">\n",
       "      <th></th>\n",
       "      <th>rev_id</th>\n",
       "      <th>worker_id</th>\n",
       "      <th>aggression</th>\n",
       "      <th>aggression_score</th>\n",
       "      <th>worker_id_demo</th>\n",
       "      <th>gender</th>\n",
       "      <th>english_first_language</th>\n",
       "      <th>age_group</th>\n",
       "      <th>education</th>\n",
       "    </tr>\n",
       "  </thead>\n",
       "  <tbody>\n",
       "    <tr>\n",
       "      <th>0</th>\n",
       "      <td>37675</td>\n",
       "      <td>1362</td>\n",
       "      <td>1.0</td>\n",
       "      <td>-1.0</td>\n",
       "      <td>3248.0</td>\n",
       "      <td>male</td>\n",
       "      <td>0.0</td>\n",
       "      <td>30-45</td>\n",
       "      <td>bachelors</td>\n",
       "    </tr>\n",
       "    <tr>\n",
       "      <th>1</th>\n",
       "      <td>37675</td>\n",
       "      <td>2408</td>\n",
       "      <td>0.0</td>\n",
       "      <td>1.0</td>\n",
       "      <td>NaN</td>\n",
       "      <td>NaN</td>\n",
       "      <td>NaN</td>\n",
       "      <td>NaN</td>\n",
       "      <td>NaN</td>\n",
       "    </tr>\n",
       "    <tr>\n",
       "      <th>2</th>\n",
       "      <td>37675</td>\n",
       "      <td>1493</td>\n",
       "      <td>0.0</td>\n",
       "      <td>0.0</td>\n",
       "      <td>2953.0</td>\n",
       "      <td>female</td>\n",
       "      <td>0.0</td>\n",
       "      <td>30-45</td>\n",
       "      <td>hs</td>\n",
       "    </tr>\n",
       "    <tr>\n",
       "      <th>3</th>\n",
       "      <td>37675</td>\n",
       "      <td>1439</td>\n",
       "      <td>0.0</td>\n",
       "      <td>0.0</td>\n",
       "      <td>49.0</td>\n",
       "      <td>male</td>\n",
       "      <td>0.0</td>\n",
       "      <td>18-30</td>\n",
       "      <td>professional</td>\n",
       "    </tr>\n",
       "    <tr>\n",
       "      <th>4</th>\n",
       "      <td>37675</td>\n",
       "      <td>170</td>\n",
       "      <td>0.0</td>\n",
       "      <td>0.0</td>\n",
       "      <td>1127.0</td>\n",
       "      <td>female</td>\n",
       "      <td>0.0</td>\n",
       "      <td>45-60</td>\n",
       "      <td>masters</td>\n",
       "    </tr>\n",
       "  </tbody>\n",
       "</table>\n",
       "</div>"
      ],
      "text/plain": [
       "   rev_id  worker_id  aggression  aggression_score  worker_id_demo  gender  \\\n",
       "0   37675       1362         1.0              -1.0          3248.0    male   \n",
       "1   37675       2408         0.0               1.0             NaN     NaN   \n",
       "2   37675       1493         0.0               0.0          2953.0  female   \n",
       "3   37675       1439         0.0               0.0            49.0    male   \n",
       "4   37675        170         0.0               0.0          1127.0  female   \n",
       "\n",
       "   english_first_language age_group     education  \n",
       "0                     0.0     30-45     bachelors  \n",
       "1                     NaN       NaN           NaN  \n",
       "2                     0.0     30-45            hs  \n",
       "3                     0.0     18-30  professional  \n",
       "4                     0.0     45-60       masters  "
      ]
     },
     "execution_count": 11,
     "metadata": {},
     "output_type": "execute_result"
    }
   ],
   "source": [
    "aggression_joined = aggression_annotations.join(aggression_demographics, on=\"worker_id\", rsuffix=\"_demo\")\n",
    "aggression_joined.head()"
   ]
  },
  {
   "cell_type": "markdown",
   "metadata": {},
   "source": [
    "## Analysis 1: Identifying labeling bias due to demographics"
   ]
  },
  {
   "cell_type": "markdown",
   "metadata": {},
   "source": [
    "### Motication for Analysis"
   ]
  },
  {
   "cell_type": "markdown",
   "metadata": {},
   "source": [
    "#### Why this analysis\n",
    "Demographics can play a big role on how thre worker annotate the dataset. Your gender, region, education, age can play a massive role in shaping your mindset, which would evenutally reflect in the labels annotated. Therefore, it is important to check the labelling is not being affected by the demographics of the lablellers. Further, it is also very important to ensure that the distribution of demographics of the labellers is similar to that of the population.\n",
    "\n",
    "#### What bias are we looking for\n",
    "Through this analysis, we will try to gaze if the demographics of the labellers have impacted how they have labelled this corpus dataset. We will assume that the true probablity of a particular comment to be toxic, attack or aggressive is the same for all labellers.\n",
    "\n",
    "#### Dataset for this analysis\n",
    "To provide a wholesome picture of the corpus data, I would be doing this analysis on all the three datasets. This would provide a deeper understanding of bias compared to picking only one or two datasets."
   ]
  },
  {
   "cell_type": "markdown",
   "metadata": {},
   "source": [
    "#### How are we measuring the bias\n",
    "\n",
    "We will first set up a function to measure and plot this bias so that we can reuse this for each dataset. \n",
    "* The function first groups the joined datasets based on the given demographic. \n",
    "* The next step is to find the percentage of the comments that were annotated positively for that particular group. This can be easily done by taking the mean of the indicator column, since our labels are 1 and 0\n",
    "* After manipulating the dataset and calculating the measures, we can then plot the measures.\n",
    "* Two differnt plots have been shown by taking the transform of the dataframe, so that its easier to see that data fom different perspective."
   ]
  },
  {
   "cell_type": "code",
   "execution_count": 25,
   "metadata": {},
   "outputs": [],
   "source": [
    "def demographic_bias(attribute):\n",
    "    df1 = toxicity_joined[[attribute,'toxicity']].groupby(attribute).mean()\n",
    "    df2 = attack_joined[[attribute,'attack']].groupby(attribute).mean()\n",
    "    df3 = aggression_joined[[attribute,'aggression']].groupby(attribute).mean()\n",
    "    df = pd.concat([df1, df2, df3], axis=1)\n",
    "\n",
    "    fig, axs = plt.subplots(1, 2, figsize=(15,5))\n",
    "    df.T.plot.bar(ax = axs[0])\n",
    "    df.plot.bar(ax = axs[1])\n",
    "\n",
    "    if not os.path.exists('output'):\n",
    "        os.makedirs('output')\n",
    "    \n",
    "    df.to_csv('output/' + attribute + '_labelling_bias.csv')\n",
    "    plt.savefig('output/' + attribute + '_labelling_bias.png')\n",
    "\n",
    "    "
   ]
  },
  {
   "cell_type": "markdown",
   "metadata": {},
   "source": [
    "### Presentation of results"
   ]
  },
  {
   "cell_type": "markdown",
   "metadata": {},
   "source": [
    "#### Labeling bias due to gender"
   ]
  },
  {
   "cell_type": "markdown",
   "metadata": {},
   "source": [
    "In this sub-analysis, we will study the bias due to gender in labelling."
   ]
  },
  {
   "cell_type": "code",
   "execution_count": 26,
   "metadata": {
    "scrolled": true
   },
   "outputs": [
    {
     "data": {
      "image/png": "[encoded data removed]",
      "text/plain": [
       "<Figure size 1080x360 with 2 Axes>"
      ]
     },
     "metadata": {
      "needs_background": "light"
     },
     "output_type": "display_data"
    }
   ],
   "source": [
    "demographic_bias('gender')"
   ]
  },
  {
   "cell_type": "markdown",
   "metadata": {},
   "source": [
    "##### Is there bias ?\n",
    "As we can see from the plots above, there is a significant difference between how males and females labelled this dataset. Females have indicated higher proportion of comments as toxic or aggressive compared to males. \n",
    "<br>\n",
    "This bias can be easily explained due to the prevailaing discrimination in the world and different experiences of males and females. This bias can seriosly impact the results of any model, if not taken into account."
   ]
  },
  {
   "cell_type": "markdown",
   "metadata": {},
   "source": [
    "#### Labeling bias due to education"
   ]
  },
  {
   "cell_type": "markdown",
   "metadata": {},
   "source": [
    "In this sub-analysis, we will study the bias due to gender in education."
   ]
  },
  {
   "cell_type": "code",
   "execution_count": 27,
   "metadata": {},
   "outputs": [
    {
     "data": {
      "image/png": "[encoded data removed]",
      "text/plain": [
       "<Figure size 1080x360 with 2 Axes>"
      ]
     },
     "metadata": {
      "needs_background": "light"
     },
     "output_type": "display_data"
    }
   ],
   "source": [
    "demographic_bias('education')"
   ]
  },
  {
   "cell_type": "markdown",
   "metadata": {},
   "source": [
    "##### Is there bias ?\n",
    "As we can see from the plots above, there is a significant difference between how workers from different education background have labelled this dataset. The group described as none has very different proportions compared to other groups. \n",
    "<br>\n",
    "This bias can be explained due to the different experiences and differnt maturity levels that come with different education. Education level can make a person more tolerable or intolerable towards particular sentiments. <br>\n",
    "This bias can also impact the results of any model, however the difference is not as pronounced as the gender."
   ]
  },
  {
   "cell_type": "markdown",
   "metadata": {},
   "source": [
    "#### Labeling bias due to age group"
   ]
  },
  {
   "cell_type": "markdown",
   "metadata": {},
   "source": [
    "In this sub-analysis, we will study the bias due to age in labelling."
   ]
  },
  {
   "cell_type": "code",
   "execution_count": 28,
   "metadata": {
    "scrolled": true
   },
   "outputs": [
    {
     "data": {
      "image/png": "[encoded data removed]",
      "text/plain": [
       "<Figure size 1080x360 with 2 Axes>"
      ]
     },
     "metadata": {
      "needs_background": "light"
     },
     "output_type": "display_data"
    }
   ],
   "source": [
    "demographic_bias('age_group')"
   ]
  },
  {
   "cell_type": "markdown",
   "metadata": {},
   "source": [
    "##### Is there bias ?\n",
    "As we can see from the plots above, there is a difference between how workers from different age groups have labelled this dataset. For example, age group over 60 is much more likely to report a comment as toxic compared ot other groups. Similarly, age group under 18 is much more likely to report a comment as aggressive compared to other groups\n",
    "<br>\n",
    "This bias can stem due to the different experiences and differnt maturity levels at differnt age. Someone under 18 would percieve the world very differently from someone above 60. <br>\n",
    "This bias can also impact the results of any model, specially if the model is targetted towards any customer group with a defined age group. This bias can be prevented by sampling the data according the use case."
   ]
  },
  {
   "cell_type": "markdown",
   "metadata": {},
   "source": [
    "#### Labeling bias due to English language"
   ]
  },
  {
   "cell_type": "markdown",
   "metadata": {},
   "source": [
    "In this sub-analysis, we will study the bias due to gender in English language."
   ]
  },
  {
   "cell_type": "code",
   "execution_count": 16,
   "metadata": {},
   "outputs": [
    {
     "data": {
      "image/png": "[encoded data removed]",
      "text/plain": [
       "<Figure size 1080x360 with 2 Axes>"
      ]
     },
     "metadata": {
      "needs_background": "light"
     },
     "output_type": "display_data"
    }
   ],
   "source": [
    "demographic_bias('english_first_language')"
   ]
  },
  {
   "cell_type": "markdown",
   "metadata": {},
   "source": [
    "##### Is there bias ?\n",
    "As we can see from the plots above, there is a difference between how workers have labelled this dataset based on whether English is there first language or not. Labellers with English as first language are more likely to indicate \n",
    "the comment as toxic, attack or aggresive. <br>\n",
    "The bias is present in all three datasets.\n",
    "\n",
    "<br>\n",
    "This bias can stem due to the difference in understanding of the nuances of English language. For exmaple, workers with English as their second or third language can be more forgiving in considering a comment as toxic as they are not aware of the true implication or intensity of the words used. <br>\n",
    "This bias can also impact the results of models. For instance, it may not work well if the all the users of the model are native English speakers which expect a higher level of scrutiny. This bias can be prevented by sampling the data according the English know-how of the user base."
   ]
  },
  {
   "cell_type": "markdown",
   "metadata": {},
   "source": [
    "## Analysis 2: Identifying bias due to disagreement in labelling"
   ]
  },
  {
   "cell_type": "markdown",
   "metadata": {},
   "source": [
    "### Motication for Analysis"
   ]
  },
  {
   "cell_type": "markdown",
   "metadata": {},
   "source": [
    "#### Why this analysis\n",
    "As the comments in this dataset were annotated by multiple workers, we have the opportunity to analyse the diagreement among these workers. Since this is a subjective issue, workers are likely to have different opinions abou the comments. However, this difference of opinion can become a socurce of major bias. When there is not enough clarity about the outcome of the label, or there is not consensus, in that case, is is very hard to obtain high level of accuracy based on that dataset. Hence, it is important to measure disagreement in this dataset.\n",
    "\n",
    "#### What bias are we looking for\n",
    "Through this analysis, we will try to gaze if the disagreement among the labellers and how it may impact any subsequent models. We will assume that in a ideal scenario all the workers annotating a particular comment will either mark it as 0 or 1. I have defined the disagreement as the ratio of number of labellers on the intority side divided by the number of abellers on the majority side.\n",
    "<br><br>\n",
    "Disagreement Ratio = Min(# of True Labellers, # of False Labellers)/Max(# of True Labellers, # of False Labellers)\n",
    "\n",
    "#### Dataset for this analysis\n",
    "To provide a wholesome picture of the corpus data, I would be doing this analysis on all the three datasets. This would provide a deeper understanding of bias compared to picking only one or two datasets."
   ]
  },
  {
   "cell_type": "markdown",
   "metadata": {},
   "source": [
    "#### How are we measuring the bias\n",
    "\n",
    "* We will first set up a function to measure the disagreement ratio.\n",
    "* We will create another function which measures the disagreement ratio by first filtering out the comments where no labellers has marker it positive. This will allow us to gaze disagreement among the comments where at least one labellers believes that it should be marked positively.\n",
    "* The function first calculates the number of yes labellers and no labellers.\n",
    "* Thereafter, the function calculates the min and max of these two groups.\n",
    "* Once this is done, the function calculates the ratio as defined above.\n",
    "* After manipulating the dataset and calculating the measures, we can then plot the histogram for this ratio to see overall disagreement in the dataset.\n",
    "* Two differnt plots have been shown by for each ratio so that we can interpret both scenarios."
   ]
  },
  {
   "cell_type": "code",
   "execution_count": 17,
   "metadata": {},
   "outputs": [],
   "source": [
    "def disagreement_bias_total(dataset, attribute):\n",
    "    df = dataset.groupby('rev_id')[attribute].agg([sum,'count'])\n",
    "    df = df[df['count']>1]\n",
    "    df = df.rename(columns={'sum': 'Yes-Labels', 'count': 'Total-Labels'})\n",
    "    df['No-Labels'] = df['Total-Labels']-df['Yes-Labels']\n",
    "    df['Disagreement'] = (df[['Yes-Labels', 'No-Labels']].min(axis=1))/(df[['Yes-Labels', 'No-Labels']].max(axis=1))\n",
    "    df = df[['Yes-Labels', 'No-Labels','Total-Labels','Disagreement' ]]\n",
    "    return df\n",
    "\n",
    "\n",
    "def disagreement_bias_atleast_one_yes(dataset, attribute):\n",
    "    df = dataset.groupby('rev_id')[attribute].agg([sum,'count'])\n",
    "    df = df[df['count']>1]\n",
    "    df = df[df['sum']>0]\n",
    "    df = df.rename(columns={'sum': 'Yes-Labels', 'count': 'Total-Labels'})\n",
    "    df['No-Labels'] = df['Total-Labels']-df['Yes-Labels']\n",
    "    df['Disagreement'] = (df[['Yes-Labels', 'No-Labels']].min(axis=1))/(df[['Yes-Labels', 'No-Labels']].max(axis=1))\n",
    "    df = df[['Yes-Labels', 'No-Labels','Total-Labels','Disagreement' ]]\n",
    "    return df"
   ]
  },
  {
   "cell_type": "markdown",
   "metadata": {},
   "source": [
    "### Presentation of results"
   ]
  },
  {
   "cell_type": "markdown",
   "metadata": {},
   "source": [
    "#### Disagreement in Toxicity dataset"
   ]
  },
  {
   "cell_type": "markdown",
   "metadata": {},
   "source": [
    "In this sub-analysis, we will study the bias due to disagreement in toxicity dataset."
   ]
  },
  {
   "cell_type": "code",
   "execution_count": 30,
   "metadata": {},
   "outputs": [
    {
     "data": {
      "text/html": [
       "<div>\n",
       "<style scoped>\n",
       "    .dataframe tbody tr th:only-of-type {\n",
       "        vertical-align: middle;\n",
       "    }\n",
       "\n",
       "    .dataframe tbody tr th {\n",
       "        vertical-align: top;\n",
       "    }\n",
       "\n",
       "    .dataframe thead th {\n",
       "        text-align: right;\n",
       "    }\n",
       "</style>\n",
       "<table border=\"1\" class=\"dataframe\">\n",
       "  <thead>\n",
       "    <tr style=\"text-align: right;\">\n",
       "      <th></th>\n",
       "      <th>Yes-Labels</th>\n",
       "      <th>No-Labels</th>\n",
       "      <th>Total-Labels</th>\n",
       "      <th>Disagreement</th>\n",
       "    </tr>\n",
       "    <tr>\n",
       "      <th>rev_id</th>\n",
       "      <th></th>\n",
       "      <th></th>\n",
       "      <th></th>\n",
       "      <th></th>\n",
       "    </tr>\n",
       "  </thead>\n",
       "  <tbody>\n",
       "    <tr>\n",
       "      <th>2232.0</th>\n",
       "      <td>1</td>\n",
       "      <td>9</td>\n",
       "      <td>10</td>\n",
       "      <td>0.111111</td>\n",
       "    </tr>\n",
       "    <tr>\n",
       "      <th>28959.0</th>\n",
       "      <td>2</td>\n",
       "      <td>8</td>\n",
       "      <td>10</td>\n",
       "      <td>0.250000</td>\n",
       "    </tr>\n",
       "    <tr>\n",
       "      <th>35367.0</th>\n",
       "      <td>1</td>\n",
       "      <td>9</td>\n",
       "      <td>10</td>\n",
       "      <td>0.111111</td>\n",
       "    </tr>\n",
       "    <tr>\n",
       "      <th>37330.0</th>\n",
       "      <td>3</td>\n",
       "      <td>7</td>\n",
       "      <td>10</td>\n",
       "      <td>0.428571</td>\n",
       "    </tr>\n",
       "    <tr>\n",
       "      <th>37346.0</th>\n",
       "      <td>1</td>\n",
       "      <td>9</td>\n",
       "      <td>10</td>\n",
       "      <td>0.111111</td>\n",
       "    </tr>\n",
       "    <tr>\n",
       "      <th>37675.0</th>\n",
       "      <td>2</td>\n",
       "      <td>8</td>\n",
       "      <td>10</td>\n",
       "      <td>0.250000</td>\n",
       "    </tr>\n",
       "    <tr>\n",
       "      <th>91460.0</th>\n",
       "      <td>1</td>\n",
       "      <td>9</td>\n",
       "      <td>10</td>\n",
       "      <td>0.111111</td>\n",
       "    </tr>\n",
       "    <tr>\n",
       "      <th>109914.0</th>\n",
       "      <td>1</td>\n",
       "      <td>9</td>\n",
       "      <td>10</td>\n",
       "      <td>0.111111</td>\n",
       "    </tr>\n",
       "    <tr>\n",
       "      <th>114890.0</th>\n",
       "      <td>1</td>\n",
       "      <td>9</td>\n",
       "      <td>10</td>\n",
       "      <td>0.111111</td>\n",
       "    </tr>\n",
       "    <tr>\n",
       "      <th>132491.0</th>\n",
       "      <td>1</td>\n",
       "      <td>9</td>\n",
       "      <td>10</td>\n",
       "      <td>0.111111</td>\n",
       "    </tr>\n",
       "  </tbody>\n",
       "</table>\n",
       "</div>"
      ],
      "text/plain": [
       "          Yes-Labels  No-Labels  Total-Labels  Disagreement\n",
       "rev_id                                                     \n",
       "2232.0             1          9            10      0.111111\n",
       "28959.0            2          8            10      0.250000\n",
       "35367.0            1          9            10      0.111111\n",
       "37330.0            3          7            10      0.428571\n",
       "37346.0            1          9            10      0.111111\n",
       "37675.0            2          8            10      0.250000\n",
       "91460.0            1          9            10      0.111111\n",
       "109914.0           1          9            10      0.111111\n",
       "114890.0           1          9            10      0.111111\n",
       "132491.0           1          9            10      0.111111"
      ]
     },
     "execution_count": 30,
     "metadata": {},
     "output_type": "execute_result"
    }
   ],
   "source": [
    "toxicity_total = disagreement_bias_total(toxicity_annotations,'toxicity')\n",
    "toxicity_atleast_one = disagreement_bias_atleast_one_yes(toxicity_annotations,'toxicity')\n",
    "toxicity_atleast_one.to_csv('output/' + 'toxicity_disagreement_bias.csv')\n",
    "toxicity_atleast_one.head(10)\n"
   ]
  },
  {
   "cell_type": "code",
   "execution_count": 31,
   "metadata": {},
   "outputs": [
    {
     "data": {
      "image/png": "[encoded data removed]",
      "text/plain": [
       "<Figure size 1080x360 with 2 Axes>"
      ]
     },
     "metadata": {
      "needs_background": "light"
     },
     "output_type": "display_data"
    },
    {
     "data": {
      "text/plain": [
       "<Figure size 432x288 with 0 Axes>"
      ]
     },
     "metadata": {},
     "output_type": "display_data"
    }
   ],
   "source": [
    "fig, axs = plt.subplots(1, 2, figsize=(15,5))\n",
    "axs[0].hist(toxicity_total.Disagreement, 10, range=[0, 1], facecolor='green', align='mid')\n",
    "axs[1].hist(toxicity_atleast_one.Disagreement, 10, range=[0, 1], facecolor='green', align='mid')\n",
    "plt.show()\n",
    "plt.savefig('output/'+'toxicity_disagreement_bias.png')\n"
   ]
  },
  {
   "cell_type": "markdown",
   "metadata": {},
   "source": [
    "#### Disagreement in attacks dataset"
   ]
  },
  {
   "cell_type": "markdown",
   "metadata": {},
   "source": [
    "In this sub-analysis, we will study the bias due to disagreement in attacks dataset."
   ]
  },
  {
   "cell_type": "code",
   "execution_count": 32,
   "metadata": {},
   "outputs": [
    {
     "data": {
      "text/html": [
       "<div>\n",
       "<style scoped>\n",
       "    .dataframe tbody tr th:only-of-type {\n",
       "        vertical-align: middle;\n",
       "    }\n",
       "\n",
       "    .dataframe tbody tr th {\n",
       "        vertical-align: top;\n",
       "    }\n",
       "\n",
       "    .dataframe thead th {\n",
       "        text-align: right;\n",
       "    }\n",
       "</style>\n",
       "<table border=\"1\" class=\"dataframe\">\n",
       "  <thead>\n",
       "    <tr style=\"text-align: right;\">\n",
       "      <th></th>\n",
       "      <th>Yes-Labels</th>\n",
       "      <th>No-Labels</th>\n",
       "      <th>Total-Labels</th>\n",
       "      <th>Disagreement</th>\n",
       "    </tr>\n",
       "    <tr>\n",
       "      <th>rev_id</th>\n",
       "      <th></th>\n",
       "      <th></th>\n",
       "      <th></th>\n",
       "      <th></th>\n",
       "    </tr>\n",
       "  </thead>\n",
       "  <tbody>\n",
       "    <tr>\n",
       "      <th>89320</th>\n",
       "      <td>4.0</td>\n",
       "      <td>5.0</td>\n",
       "      <td>9</td>\n",
       "      <td>0.800000</td>\n",
       "    </tr>\n",
       "    <tr>\n",
       "      <th>155243</th>\n",
       "      <td>2.0</td>\n",
       "      <td>7.0</td>\n",
       "      <td>9</td>\n",
       "      <td>0.285714</td>\n",
       "    </tr>\n",
       "    <tr>\n",
       "      <th>192579</th>\n",
       "      <td>1.0</td>\n",
       "      <td>7.0</td>\n",
       "      <td>8</td>\n",
       "      <td>0.142857</td>\n",
       "    </tr>\n",
       "    <tr>\n",
       "      <th>249432</th>\n",
       "      <td>2.0</td>\n",
       "      <td>8.0</td>\n",
       "      <td>10</td>\n",
       "      <td>0.250000</td>\n",
       "    </tr>\n",
       "    <tr>\n",
       "      <th>290598</th>\n",
       "      <td>3.0</td>\n",
       "      <td>15.0</td>\n",
       "      <td>18</td>\n",
       "      <td>0.200000</td>\n",
       "    </tr>\n",
       "    <tr>\n",
       "      <th>375422</th>\n",
       "      <td>2.0</td>\n",
       "      <td>8.0</td>\n",
       "      <td>10</td>\n",
       "      <td>0.250000</td>\n",
       "    </tr>\n",
       "    <tr>\n",
       "      <th>398923</th>\n",
       "      <td>1.0</td>\n",
       "      <td>9.0</td>\n",
       "      <td>10</td>\n",
       "      <td>0.111111</td>\n",
       "    </tr>\n",
       "    <tr>\n",
       "      <th>554005</th>\n",
       "      <td>3.0</td>\n",
       "      <td>16.0</td>\n",
       "      <td>19</td>\n",
       "      <td>0.187500</td>\n",
       "    </tr>\n",
       "    <tr>\n",
       "      <th>569192</th>\n",
       "      <td>1.0</td>\n",
       "      <td>18.0</td>\n",
       "      <td>19</td>\n",
       "      <td>0.055556</td>\n",
       "    </tr>\n",
       "    <tr>\n",
       "      <th>622095</th>\n",
       "      <td>6.0</td>\n",
       "      <td>14.0</td>\n",
       "      <td>20</td>\n",
       "      <td>0.428571</td>\n",
       "    </tr>\n",
       "  </tbody>\n",
       "</table>\n",
       "</div>"
      ],
      "text/plain": [
       "        Yes-Labels  No-Labels  Total-Labels  Disagreement\n",
       "rev_id                                                   \n",
       "89320          4.0        5.0             9      0.800000\n",
       "155243         2.0        7.0             9      0.285714\n",
       "192579         1.0        7.0             8      0.142857\n",
       "249432         2.0        8.0            10      0.250000\n",
       "290598         3.0       15.0            18      0.200000\n",
       "375422         2.0        8.0            10      0.250000\n",
       "398923         1.0        9.0            10      0.111111\n",
       "554005         3.0       16.0            19      0.187500\n",
       "569192         1.0       18.0            19      0.055556\n",
       "622095         6.0       14.0            20      0.428571"
      ]
     },
     "execution_count": 32,
     "metadata": {},
     "output_type": "execute_result"
    }
   ],
   "source": [
    "attack_total = disagreement_bias_total(attack_annotations,'attack')\n",
    "attack_atleast_one = disagreement_bias_atleast_one_yes(attack_annotations,'attack')\n",
    "attack_atleast_one.to_csv('output/' + 'attack_disagreement_bias.csv')\n",
    "attack_atleast_one.head(10)"
   ]
  },
  {
   "cell_type": "code",
   "execution_count": 21,
   "metadata": {},
   "outputs": [
    {
     "data": {
      "image/png": "[encoded data removed]",
      "text/plain": [
       "<Figure size 1080x360 with 2 Axes>"
      ]
     },
     "metadata": {
      "needs_background": "light"
     },
     "output_type": "display_data"
    },
    {
     "data": {
      "text/plain": [
       "<Figure size 432x288 with 0 Axes>"
      ]
     },
     "metadata": {},
     "output_type": "display_data"
    }
   ],
   "source": [
    "fig, axs = plt.subplots(1, 2, figsize=(15,5))\n",
    "axs[0].hist(attack_total.Disagreement, 10, range=[0, 1], facecolor='green', align='mid')\n",
    "axs[1].hist(attack_atleast_one.Disagreement, 10, range=[0, 1], facecolor='green', align='mid')\n",
    "plt.show()\n",
    "plt.savefig('output/'+'_attack_disagreement_bias.png')\n"
   ]
  },
  {
   "cell_type": "markdown",
   "metadata": {},
   "source": [
    "#### Disagreement in aggression dataset"
   ]
  },
  {
   "cell_type": "markdown",
   "metadata": {},
   "source": [
    "In this sub-analysis, we will study the bias due to disagreement in aggression dataset."
   ]
  },
  {
   "cell_type": "code",
   "execution_count": 33,
   "metadata": {},
   "outputs": [
    {
     "data": {
      "text/html": [
       "<div>\n",
       "<style scoped>\n",
       "    .dataframe tbody tr th:only-of-type {\n",
       "        vertical-align: middle;\n",
       "    }\n",
       "\n",
       "    .dataframe tbody tr th {\n",
       "        vertical-align: top;\n",
       "    }\n",
       "\n",
       "    .dataframe thead th {\n",
       "        text-align: right;\n",
       "    }\n",
       "</style>\n",
       "<table border=\"1\" class=\"dataframe\">\n",
       "  <thead>\n",
       "    <tr style=\"text-align: right;\">\n",
       "      <th></th>\n",
       "      <th>Yes-Labels</th>\n",
       "      <th>No-Labels</th>\n",
       "      <th>Total-Labels</th>\n",
       "      <th>Disagreement</th>\n",
       "    </tr>\n",
       "    <tr>\n",
       "      <th>rev_id</th>\n",
       "      <th></th>\n",
       "      <th></th>\n",
       "      <th></th>\n",
       "      <th></th>\n",
       "    </tr>\n",
       "  </thead>\n",
       "  <tbody>\n",
       "    <tr>\n",
       "      <th>37675</th>\n",
       "      <td>1.0</td>\n",
       "      <td>9.0</td>\n",
       "      <td>10</td>\n",
       "      <td>0.111111</td>\n",
       "    </tr>\n",
       "    <tr>\n",
       "      <th>89320</th>\n",
       "      <td>4.0</td>\n",
       "      <td>5.0</td>\n",
       "      <td>9</td>\n",
       "      <td>0.800000</td>\n",
       "    </tr>\n",
       "    <tr>\n",
       "      <th>111032</th>\n",
       "      <td>2.0</td>\n",
       "      <td>8.0</td>\n",
       "      <td>10</td>\n",
       "      <td>0.250000</td>\n",
       "    </tr>\n",
       "    <tr>\n",
       "      <th>128532</th>\n",
       "      <td>1.0</td>\n",
       "      <td>9.0</td>\n",
       "      <td>10</td>\n",
       "      <td>0.111111</td>\n",
       "    </tr>\n",
       "    <tr>\n",
       "      <th>155243</th>\n",
       "      <td>2.0</td>\n",
       "      <td>7.0</td>\n",
       "      <td>9</td>\n",
       "      <td>0.285714</td>\n",
       "    </tr>\n",
       "    <tr>\n",
       "      <th>249432</th>\n",
       "      <td>4.0</td>\n",
       "      <td>6.0</td>\n",
       "      <td>10</td>\n",
       "      <td>0.666667</td>\n",
       "    </tr>\n",
       "    <tr>\n",
       "      <th>290598</th>\n",
       "      <td>3.0</td>\n",
       "      <td>15.0</td>\n",
       "      <td>18</td>\n",
       "      <td>0.200000</td>\n",
       "    </tr>\n",
       "    <tr>\n",
       "      <th>336654</th>\n",
       "      <td>1.0</td>\n",
       "      <td>18.0</td>\n",
       "      <td>19</td>\n",
       "      <td>0.055556</td>\n",
       "    </tr>\n",
       "    <tr>\n",
       "      <th>344567</th>\n",
       "      <td>1.0</td>\n",
       "      <td>15.0</td>\n",
       "      <td>16</td>\n",
       "      <td>0.066667</td>\n",
       "    </tr>\n",
       "    <tr>\n",
       "      <th>375422</th>\n",
       "      <td>2.0</td>\n",
       "      <td>8.0</td>\n",
       "      <td>10</td>\n",
       "      <td>0.250000</td>\n",
       "    </tr>\n",
       "  </tbody>\n",
       "</table>\n",
       "</div>"
      ],
      "text/plain": [
       "        Yes-Labels  No-Labels  Total-Labels  Disagreement\n",
       "rev_id                                                   \n",
       "37675          1.0        9.0            10      0.111111\n",
       "89320          4.0        5.0             9      0.800000\n",
       "111032         2.0        8.0            10      0.250000\n",
       "128532         1.0        9.0            10      0.111111\n",
       "155243         2.0        7.0             9      0.285714\n",
       "249432         4.0        6.0            10      0.666667\n",
       "290598         3.0       15.0            18      0.200000\n",
       "336654         1.0       18.0            19      0.055556\n",
       "344567         1.0       15.0            16      0.066667\n",
       "375422         2.0        8.0            10      0.250000"
      ]
     },
     "execution_count": 33,
     "metadata": {},
     "output_type": "execute_result"
    }
   ],
   "source": [
    "aggression_total = disagreement_bias_total(aggression_annotations,'aggression')\n",
    "aggression_atleast_one = disagreement_bias_atleast_one_yes(aggression_annotations,'aggression')\n",
    "aggression_atleast_one.to_csv('output/' + 'aggression_disagreement_bias.csv')\n",
    "aggression_atleast_one.head(10)"
   ]
  },
  {
   "cell_type": "code",
   "execution_count": 34,
   "metadata": {},
   "outputs": [
    {
     "data": {
      "image/png": "[encoded data removed]",
      "text/plain": [
       "<Figure size 1080x360 with 2 Axes>"
      ]
     },
     "metadata": {
      "needs_background": "light"
     },
     "output_type": "display_data"
    },
    {
     "data": {
      "text/plain": [
       "<Figure size 432x288 with 0 Axes>"
      ]
     },
     "metadata": {},
     "output_type": "display_data"
    }
   ],
   "source": [
    "fig, axs = plt.subplots(1, 2, figsize=(15,5))\n",
    "axs[0].hist(aggression_total.Disagreement, 10, range=[0, 1], facecolor='green', align='mid')\n",
    "axs[1].hist(aggression_atleast_one.Disagreement, 10, range=[0, 1], facecolor='green', align='mid')\n",
    "plt.show()\n",
    "plt.savefig('output/'+'_aggression_disagreement_bias.png')"
   ]
  },
  {
   "cell_type": "markdown",
   "metadata": {},
   "source": [
    "#### Is there bias ?\n",
    "As we can see from the plots above, there is a lot of disagreement among the workers in all the three datasets. We can see that with comments with atlease one 'Yes' labeller, disagreement ratio can go as high as 1. In most scenarios there are atleast 20 % labellers taking the opposite side as the majority. This kind of bias can truly harm any model based on it. \n",
    "\n",
    "The bais will make it difficult for any model to correctly predict the label for any comment. Further, as different segments of society have different views rgarding the subjective nature of comments, it will hard to build a model which works well for all sections of the society.\n",
    "<br>\n",
    "This bias is very difficult to fix due to the subjective nature of the data. However, the bias can be handled by alloting a base level to each lableller based on their tendency to mark a comment as positive. Thereafter, this baseline for the labeller can be used to standardize all their ratings, and hence bring the dataset to slightly more unbiased state.  <br>\n"
   ]
  },
  {
   "cell_type": "markdown",
   "metadata": {},
   "source": [
    "## Implications for research and product development"
   ]
  },
  {
   "cell_type": "markdown",
   "metadata": {},
   "source": [
    "**Which, if any, of these demo applications would you expect the Perspective API—or any model trained on the Wikipedia Talk corpus—to perform well in? Why?**"
   ]
  },
  {
   "cell_type": "markdown",
   "metadata": {},
   "source": [
    "I think that the performance of a model is dependent on the context of the problem. Therefore, this dataset would perform good in scenarios where context is similar, i.e. applications related to identifying the toxicity or aggression in the speech.\n",
    "\n",
    "1. Therefore this model should work well for the comment filter based on level of toxicity, since the model based on this dataset can do a great job at filtering our toxic or aggressive comments on the internet. \n",
    "2. It will also work well with the behave application where a Chrome extension replaces toxic comments with fun emojis. Since, the application is based on identifying toxic comments, it is likely to have similar context as with the dataset.\n",
    "\n",
    "The biased found in this notebook would have some implications on these applications as the applications rely on being good training data across demographics."
   ]
  },
  {
   "cell_type": "markdown",
   "metadata": {},
   "source": [
    "**Which, if any, of these demo applications would you expect the Perspective API to perform poorly in? Why?**"
   ]
  },
  {
   "cell_type": "markdown",
   "metadata": {},
   "source": [
    "The datset would perform poorly in models where the context is slightly or completely different. This is because the knowledge of labellers will not be directly applicable. From the perspective AP, here are some projects that may not work well.\n",
    "\n",
    "1. Hot Topics in one such application. Since the aim is to help identify topics that may be heated and need extra community involvement, the dataset may fall short of context. For example hot topics can also be without any aggression, attacks or toxicity. this dataset would miss those cases and would not be able to classify them.\n",
    "2. Authorship Feedback is another application where it may not apply well. For example, the aim of this application is to provide real time feedback to author, however, the training dataset is based on comments which are provided as a whole and hence with their whole context. It is much easier to judge those comments in the dataset compared to judging an opening phrase of comment without full context.\n",
    "\n",
    "Although the biases found in the notebook would make the models worse, the main damage would come from the lack of built in context into the corpus."
   ]
  },
  {
   "cell_type": "markdown",
   "metadata": {},
   "source": [
    "**What are some kinds of hostile speech that would be difficult to accurately detect using the approach used to train the Perspective API models?**"
   ]
  },
  {
   "cell_type": "markdown",
   "metadata": {},
   "source": [
    "There are lot of other speeches where this dataset may not work. For example\n",
    "* Sarcasm can be a form of hostile speech which is hard to identify for models. The dataset would unlikelt have enough examples of attacking or aggressive comments that are based in sarcasm, and hence the application based on thess datasets would not perform well.\n",
    "* The model would remain completely irrelevant to any non-English text. Even within English, people often being up words from other language when they are being aggressive, however models based on this datasets would fail to recognixe that.\n",
    "* The model would also fail to recognize passive aggressive and subtle comments which do not make use of abusive language but still are condescending towards other readers.\n",
    "\n",
    "The biases in this analysis would be relevant to these issues as well, as the differences in labelling due to demographics will get pronounces for subtle comments."
   ]
  },
  {
   "cell_type": "code",
   "execution_count": null,
   "metadata": {},
   "outputs": [],
   "source": []
  },
  {
   "cell_type": "code",
   "execution_count": null,
   "metadata": {},
   "outputs": [],
   "source": []
  }
 ],
 "metadata": {
  "kernelspec": {
   "display_name": "Python 3",
   "language": "python",
   "name": "python3"
  },
  "language_info": {
   "codemirror_mode": {
    "name": "ipython",
    "version": 3
   },
   "file_extension": ".py",
   "mimetype": "text/x-python",
   "name": "python",
   "nbconvert_exporter": "python",
   "pygments_lexer": "ipython3",
   "version": "3.7.3"
  }
 },
 "nbformat": 4,
 "nbformat_minor": 2
}
